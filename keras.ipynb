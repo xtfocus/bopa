{
 "cells": [
  {
   "cell_type": "code",
   "execution_count": 1,
   "metadata": {},
   "outputs": [],
   "source": [
    "from keras.preprocessing.image import load_img\n",
    "from keras.preprocessing.image import img_to_array\n",
    "from keras.models import Model\n",
    "from keras.applications import VGG16\n",
    "\n",
    "\n",
    "from keras.applications import ResNet50\n",
    "from keras.applications.resnet50 import preprocess_input\n",
    "from keras import optimizers\n",
    "\n",
    "\n",
    "from keras.models import Sequential\n",
    "from keras.layers import Dense, GlobalAveragePooling2D, Dropout\n",
    "\n",
    "from pickle import dump\n",
    "\n",
    "from tensorflow.keras.applications.inception_v3 import InceptionV3"
   ]
  },
  {
   "cell_type": "code",
   "execution_count": 2,
   "metadata": {},
   "outputs": [],
   "source": [
    "def build4():\n",
    "# InceptionV3 model and use the weights from imagenet\n",
    "    conv_base = InceptionV3(weights = 'imagenet', #Useing the inception_v3 CNN that was trained on ImageNet data.  \n",
    "                  include_top = False)\n",
    "\n",
    "    for layer in conv_base.layers:\n",
    "        layer.trainable = False\n",
    "\n",
    "    InceptionV3_model = conv_base.output\n",
    "    pool = GlobalAveragePooling2D()(InceptionV3_model)\n",
    "    dense_1 = Dense(512, activation = 'relu')(pool)\n",
    "    output = Dense(NUM_CLASSES, activation = 'softmax')(dense_1)\n",
    "#     x = GlobalAveragePooling2D()(x)\n",
    "#     x = Dense(64, activation='relu')(x) \n",
    "#     x = Dropout(0.1)(x)\n",
    "#     x = Dense(32, activation='relu')(x) \n",
    "#     x = Dropout(0.2)(x)\n",
    "#     predictions = Dense(NUM_CLASSES, activation='softmax')(x)\n",
    "    model = Model(conv_base.input, output)\n",
    "    \n",
    "    model.compile(loss='categorical_crossentropy',\n",
    "              optimizer=optimizers.SGD(lr=1e-4, momentum=0.9),\n",
    "              metrics=['accuracy'])\n",
    "    \n",
    "    return model"
   ]
  },
  {
   "cell_type": "code",
   "execution_count": 3,
   "metadata": {},
   "outputs": [],
   "source": [
    "NUM_CLASSES = 4\n",
    "def build2():\n",
    "    conv_base = ResNet50(include_top=False)\n",
    "    \n",
    "    for layer in conv_base.layers:\n",
    "        layer.trainable = False\n",
    "\n",
    "    x = conv_base.output\n",
    "    x = GlobalAveragePooling2D()(x)\n",
    "    x = Dense(64, activation='relu')(x) \n",
    "    x = Dropout(0.1)(x)\n",
    "    x = Dense(32, activation='relu')(x) \n",
    "    x = Dropout(0.2)(x)\n",
    "    predictions = Dense(NUM_CLASSES, activation='softmax')(x)\n",
    "    model = Model(conv_base.input, predictions)\n",
    "    \n",
    "    # optimizer = optimizers.Adam()\n",
    "    optimizer = optimizers.Adam(learning_rate=0.001)\n",
    "    model.compile(loss='categorical_crossentropy',\n",
    "                  optimizer=optimizer,\n",
    "                  metrics=['accuracy'])\n",
    "    \n",
    "    return model"
   ]
  },
  {
   "cell_type": "code",
   "execution_count": 4,
   "metadata": {},
   "outputs": [],
   "source": [
    "def build3():\n",
    "    \"\"\"\n",
    "    loss: 0.5012 - accuracy: 0.8120 - val_loss: 0.4087 - val_accuracy: 0.8596\n",
    "    \"\"\"\n",
    "    NUM_CLASSES = 4\n",
    "    \n",
    "    conv_base = VGG16(include_top=False)\n",
    "    \n",
    "    for layer in conv_base.layers:\n",
    "        layer.trainable = False\n",
    "        \n",
    "    x = conv_base.output\n",
    "    x = GlobalAveragePooling2D()(x)\n",
    "    x = Dense(64, activation='relu')(x) \n",
    "    x = Dropout(0.1)(x)\n",
    "    x = Dense(32, activation='relu')(x) \n",
    "    x = Dropout(0.2)(x)\n",
    "    predictions = Dense(NUM_CLASSES, activation='softmax')(x)\n",
    "    model = Model(conv_base.input, predictions)\n",
    "    # optimizer = optimizers.Adam()\n",
    "    optimizer = optimizers.Adam(learning_rate=0.001)\n",
    "    model.compile(loss='categorical_crossentropy',\n",
    "                  optimizer=optimizer,\n",
    "                  metrics=['accuracy'])\n",
    "    return model"
   ]
  },
  {
   "cell_type": "code",
   "execution_count": 5,
   "metadata": {},
   "outputs": [],
   "source": [
    "import keras\n",
    "def build_model():\n",
    "    model = keras.models.Sequential([\n",
    "        keras.layers.Conv2D(32, (3,3), activation='relu', input_shape=(128, 128, 3)),\n",
    "        keras.layers.Conv2D(64, (3,3), activation='relu'),\n",
    "        keras.layers.BatchNormalization(),\n",
    "        keras.layers.MaxPooling2D(2,2),\n",
    "        keras.layers.Dropout(.2),\n",
    "        \n",
    "        keras.layers.Conv2D(128, (3,3), activation='relu'), \n",
    "        keras.layers.BatchNormalization(),\n",
    "        keras.layers.MaxPooling2D(2,2),\n",
    "        keras.layers.Dropout(.2),\n",
    "        \n",
    "        keras.layers.Flatten(), \n",
    "        keras.layers.Dense(128, activation='relu'), \n",
    "        keras.layers.BatchNormalization(),\n",
    "        keras.layers.Dropout(.3),\n",
    "        keras.layers.Dense(NUM_CLASSES, activation='softmax')\n",
    "    ])\n",
    "\n",
    "#     model.compile(optimizer=optimizers.RMSprop(lr=0.01), loss='categorical_crossentropy', metrics=['acc'])\n",
    "    optimizer = optimizers.Adam(learning_rate=0.001)\n",
    "    model.compile(loss='categorical_crossentropy',\n",
    "                  optimizer=optimizer,\n",
    "                  metrics=['accuracy'])\n",
    "\n",
    "    return model"
   ]
  },
  {
   "cell_type": "code",
   "execution_count": 13,
   "metadata": {},
   "outputs": [],
   "source": [
    "model = build3()"
   ]
  },
  {
   "cell_type": "code",
   "execution_count": 14,
   "metadata": {},
   "outputs": [],
   "source": [
    "import keras\n",
    "from keras import optimizers\n",
    "from keras.preprocessing.image import ImageDataGenerator"
   ]
  },
  {
   "cell_type": "code",
   "execution_count": 15,
   "metadata": {},
   "outputs": [],
   "source": [
    "bs = 32\n",
    "train_datagen = ImageDataGenerator(\n",
    "    rescale=1./255,\n",
    "    rotation_range=20,\n",
    "#     width_shift_range=0.1,\n",
    "#     height_shift_range=0.1,\n",
    "#     shear_range=0.15,\n",
    "    zoom_range=0.1,\n",
    "#     horizontal_flip=True, \n",
    "    validation_split=0.2\n",
    ")\n"
   ]
  },
  {
   "cell_type": "code",
   "execution_count": 20,
   "metadata": {},
   "outputs": [
    {
     "name": "stdout",
     "output_type": "stream",
     "text": [
      "Found 468 images belonging to 4 classes.\n"
     ]
    }
   ],
   "source": [
    "train_dir = 'fruits/'\n",
    "\n",
    "image_generator = ImageDataGenerator(rescale=1.0/255.0, \n",
    "                                     rotation_range=20,\n",
    "                                     validation_split=0.2,\n",
    "                                    fill_mode='constant') \n",
    "\n",
    "\n",
    "train_generator = image_generator.flow_from_directory(\n",
    "    train_dir,  # This is the source directory for training images\n",
    "    target_size=(128, 128),  # All images will be resized to 256x256\n",
    "    shuffle=True,\n",
    "    batch_size=bs,\n",
    "    class_mode='categorical',\n",
    "    subset='training')"
   ]
  },
  {
   "cell_type": "code",
   "execution_count": 21,
   "metadata": {},
   "outputs": [
    {
     "name": "stdout",
     "output_type": "stream",
     "text": [
      "Found 114 images belonging to 4 classes.\n"
     ]
    }
   ],
   "source": [
    "validation_generator = image_generator.flow_from_directory(\n",
    "    train_dir, # same directory as training data\n",
    "    target_size=(128, 128),\n",
    "    batch_size=bs,\n",
    "    shuffle=True,\n",
    "    class_mode='categorical',\n",
    "    subset='validation') # set as validation data"
   ]
  },
  {
   "cell_type": "code",
   "execution_count": 22,
   "metadata": {},
   "outputs": [],
   "source": [
    "keras.backend.clear_session()"
   ]
  },
  {
   "cell_type": "code",
   "execution_count": 23,
   "metadata": {},
   "outputs": [
    {
     "name": "stdout",
     "output_type": "stream",
     "text": [
      "Epoch 1/15\n",
      "15/15 [==============================] - 20s 1s/step - loss: 0.9668 - accuracy: 0.6346 - val_loss: 0.8005 - val_accuracy: 0.7456\n",
      "Epoch 2/15\n",
      "15/15 [==============================] - 23s 2s/step - loss: 0.9304 - accuracy: 0.6239 - val_loss: 0.7396 - val_accuracy: 0.7281\n",
      "Epoch 3/15\n",
      "15/15 [==============================] - 22s 1s/step - loss: 0.8651 - accuracy: 0.6496 - val_loss: 0.7006 - val_accuracy: 0.7632\n",
      "Epoch 4/15\n",
      "15/15 [==============================] - 21s 1s/step - loss: 0.7801 - accuracy: 0.7094 - val_loss: 0.6901 - val_accuracy: 0.7632\n",
      "Epoch 5/15\n",
      "15/15 [==============================] - 21s 1s/step - loss: 0.7874 - accuracy: 0.6795 - val_loss: 0.6436 - val_accuracy: 0.7632\n",
      "Epoch 6/15\n",
      "15/15 [==============================] - 21s 1s/step - loss: 0.6977 - accuracy: 0.7073 - val_loss: 0.6022 - val_accuracy: 0.7982\n",
      "Epoch 7/15\n",
      "15/15 [==============================] - 20s 1s/step - loss: 0.7053 - accuracy: 0.7201 - val_loss: 0.5956 - val_accuracy: 0.7807\n",
      "Epoch 8/15\n",
      "15/15 [==============================] - 21s 1s/step - loss: 0.6823 - accuracy: 0.7372 - val_loss: 0.5647 - val_accuracy: 0.7719\n",
      "Epoch 9/15\n",
      "15/15 [==============================] - 21s 1s/step - loss: 0.6089 - accuracy: 0.7949 - val_loss: 0.4928 - val_accuracy: 0.8158\n",
      "Epoch 10/15\n",
      "15/15 [==============================] - 21s 1s/step - loss: 0.6159 - accuracy: 0.7778 - val_loss: 0.4968 - val_accuracy: 0.7982\n",
      "Epoch 11/15\n",
      "15/15 [==============================] - 21s 1s/step - loss: 0.6221 - accuracy: 0.7564 - val_loss: 0.5075 - val_accuracy: 0.7544\n",
      "Epoch 12/15\n",
      "15/15 [==============================] - 21s 1s/step - loss: 0.5957 - accuracy: 0.7756 - val_loss: 0.4987 - val_accuracy: 0.8158\n",
      "Epoch 13/15\n",
      "15/15 [==============================] - 21s 1s/step - loss: 0.5575 - accuracy: 0.7949 - val_loss: 0.4916 - val_accuracy: 0.8421\n",
      "Epoch 14/15\n",
      "15/15 [==============================] - 21s 1s/step - loss: 0.5335 - accuracy: 0.8098 - val_loss: 0.4852 - val_accuracy: 0.8070\n",
      "Epoch 15/15\n",
      "15/15 [==============================] - 21s 1s/step - loss: 0.5294 - accuracy: 0.8013 - val_loss: 0.4587 - val_accuracy: 0.8246\n"
     ]
    },
    {
     "data": {
      "text/plain": [
       "<tensorflow.python.keras.callbacks.History at 0x7f4a8ee3c2d0>"
      ]
     },
     "execution_count": 23,
     "metadata": {},
     "output_type": "execute_result"
    }
   ],
   "source": [
    "model.fit(\n",
    "    train_generator,\n",
    "#     steps_per_epoch = train_generator.samples // batch_size,\n",
    "    validation_data = validation_generator, \n",
    "    batch_size=bs,\n",
    "#     validation_steps = validation_generator.samples // batch_size,\n",
    "    epochs = 15)"
   ]
  },
  {
   "cell_type": "code",
   "execution_count": 24,
   "metadata": {},
   "outputs": [
    {
     "name": "stdout",
     "output_type": "stream",
     "text": [
      "WARNING:tensorflow:From /home/tung/.virtualenvs/cvpy/lib/python3.7/site-packages/tensorflow/python/ops/resource_variable_ops.py:1817: calling BaseResourceVariable.__init__ (from tensorflow.python.ops.resource_variable_ops) with constraint is deprecated and will be removed in a future version.\n",
      "Instructions for updating:\n",
      "If using Keras pass *_constraint arguments to layers.\n",
      "INFO:tensorflow:Assets written to: fruits_model_3/assets\n"
     ]
    }
   ],
   "source": [
    "model.save('fruits_model_3')"
   ]
  },
  {
   "cell_type": "code",
   "execution_count": 31,
   "metadata": {},
   "outputs": [],
   "source": [
    "learn = keras.models.load_model('fruits_model_2/')"
   ]
  },
  {
   "cell_type": "code",
   "execution_count": 32,
   "metadata": {},
   "outputs": [],
   "source": [
    "import PIL\n",
    "import numpy as np\n",
    "image = PIL.Image.open('fruits/peach/00000033.jpg').resize((128,128))"
   ]
  },
  {
   "cell_type": "code",
   "execution_count": 39,
   "metadata": {
    "scrolled": true
   },
   "outputs": [],
   "source": [
    "x = np.array(image)/255.\n",
    "# x = keras.applications.vgg16.preprocess_input(\n",
    "#     x, data_format=None\n",
    "# )\n",
    "x = np.stack([x])"
   ]
  },
  {
   "cell_type": "code",
   "execution_count": 40,
   "metadata": {},
   "outputs": [
    {
     "data": {
      "text/plain": [
       "0"
      ]
     },
     "execution_count": 40,
     "metadata": {},
     "output_type": "execute_result"
    }
   ],
   "source": [
    "predict = learn.predict(x)\n",
    "list(predict[0]).index(max(predict[0]))"
   ]
  },
  {
   "cell_type": "code",
   "execution_count": 41,
   "metadata": {},
   "outputs": [
    {
     "data": {
      "text/plain": [
       "array([[1.0000000e+00, 0.0000000e+00, 6.3972032e-24, 8.2563723e-14]],\n",
       "      dtype=float32)"
      ]
     },
     "execution_count": 41,
     "metadata": {},
     "output_type": "execute_result"
    }
   ],
   "source": [
    "predict"
   ]
  },
  {
   "cell_type": "code",
   "execution_count": 36,
   "metadata": {},
   "outputs": [
    {
     "data": {
      "image/png": "[encoded data removed]",
      "text/plain": [
       "<PIL.Image.Image image mode=RGB size=128x128 at 0x7F4A18611290>"
      ]
     },
     "execution_count": 36,
     "metadata": {},
     "output_type": "execute_result"
    }
   ],
   "source": [
    "image"
   ]
  },
  {
   "cell_type": "code",
   "execution_count": 37,
   "metadata": {},
   "outputs": [],
   "source": [
    "label_map = (train_generator.class_indices)"
   ]
  },
  {
   "cell_type": "code",
   "execution_count": 38,
   "metadata": {},
   "outputs": [
    {
     "data": {
      "text/plain": [
       "{'apple': 0, 'banana': 1, 'orange': 2, 'peach': 3}"
      ]
     },
     "execution_count": 38,
     "metadata": {},
     "output_type": "execute_result"
    }
   ],
   "source": [
    "label_map"
   ]
  },
  {
   "cell_type": "code",
   "execution_count": null,
   "metadata": {},
   "outputs": [],
   "source": []
  }
 ],
 "metadata": {
  "kernelspec": {
   "display_name": "cvpy",
   "language": "python",
   "name": "cvpy"
  },
  "language_info": {
   "codemirror_mode": {
    "name": "ipython",
    "version": 3
   },
   "file_extension": ".py",
   "mimetype": "text/x-python",
   "name": "python",
   "nbconvert_exporter": "python",
   "pygments_lexer": "ipython3",
   "version": "3.7.6"
  },
  "toc": {
   "base_numbering": 1,
   "nav_menu": {},
   "number_sections": true,
   "sideBar": true,
   "skip_h1_title": false,
   "title_cell": "Table of Contents",
   "title_sidebar": "Contents",
   "toc_cell": false,
   "toc_position": {},
   "toc_section_display": true,
   "toc_window_display": false
  }
 },
 "nbformat": 4,
 "nbformat_minor": 4
}
