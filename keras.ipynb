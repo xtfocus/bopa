{
 "cells": [
  {
   "cell_type": "code",
   "execution_count": 14,
   "metadata": {},
   "outputs": [],
   "source": [
    "from keras.preprocessing.image import load_img\n",
    "from keras.preprocessing.image import img_to_array\n",
    "from keras.models import Model\n",
    "from keras.applications import VGG16\n",
    "\n",
    "\n",
    "from keras.applications import ResNet50\n",
    "from keras.applications.resnet50 import preprocess_input\n",
    "\n",
    "\n",
    "\n",
    "from keras.models import Sequential\n",
    "from keras.layers import Dense, GlobalAveragePooling2D, Dropout\n",
    "\n",
    "from pickle import dump\n",
    "\n",
    "from tensorflow.keras.applications.inception_v3 import InceptionV3"
   ]
  },
  {
   "cell_type": "code",
   "execution_count": 15,
   "metadata": {},
   "outputs": [],
   "source": [
    "def build4():\n",
    "# InceptionV3 model and use the weights from imagenet\n",
    "    conv_base = InceptionV3(weights = 'imagenet', #Useing the inception_v3 CNN that was trained on ImageNet data.  \n",
    "                  include_top = False)\n",
    "\n",
    "    for layer in conv_base.layers:\n",
    "        layer.trainable = False\n",
    "\n",
    "    InceptionV3_model = conv_base.output\n",
    "    pool = GlobalAveragePooling2D()(InceptionV3_model)\n",
    "    dense_1 = layers.Dense(512, activation = 'relu')(pool)\n",
    "    output = layers.Dense(120, activation = 'softmax')(dense_1)\n",
    "#     x = GlobalAveragePooling2D()(x)\n",
    "#     x = Dense(64, activation='relu')(x) \n",
    "#     x = Dropout(0.1)(x)\n",
    "#     x = Dense(32, activation='relu')(x) \n",
    "#     x = Dropout(0.2)(x)\n",
    "#     predictions = Dense(NUM_CLASSES, activation='softmax')(x)\n",
    "    model = Model(conv_base.input, outputtput)\n",
    "    \n",
    "    model.compile(loss='categorical_crossentropy',\n",
    "              optimizer=optimizers.SGD(lr=1e-4, momentum=0.9),\n",
    "              metrics=['accuracy'])\n",
    "    \n",
    "    return model"
   ]
  },
  {
   "cell_type": "code",
   "execution_count": 4,
   "metadata": {},
   "outputs": [],
   "source": [
    "NUM_CLASSES = 4\n",
    "def build2():\n",
    "    conv_base = ResNet50(include_top=False)\n",
    "    \n",
    "    for layer in conv_base.layers:\n",
    "        layer.trainable = False\n",
    "\n",
    "    x = conv_base.output\n",
    "    x = GlobalAveragePooling2D()(x)\n",
    "    x = Dense(64, activation='relu')(x) \n",
    "    x = Dropout(0.1)(x)\n",
    "    x = Dense(32, activation='relu')(x) \n",
    "    x = Dropout(0.2)(x)\n",
    "    predictions = Dense(NUM_CLASSES, activation='softmax')(x)\n",
    "    model = Model(conv_base.input, predictions)\n",
    "    \n",
    "    # optimizer = optimizers.Adam()\n",
    "    optimizer = optimizers.Adam(learning_rate=0.001)\n",
    "    model.compile(loss='categorical_crossentropy',\n",
    "                  optimizer=optimizer,\n",
    "                  metrics=['accuracy'])\n",
    "    \n",
    "    return model"
   ]
  },
  {
   "cell_type": "code",
   "execution_count": 6,
   "metadata": {},
   "outputs": [],
   "source": [
    "def build3():\n",
    "    \"\"\"\n",
    "    loss: 0.5012 - accuracy: 0.8120 - val_loss: 0.4087 - val_accuracy: 0.8596\n",
    "    \"\"\"\n",
    "    NUM_CLASSES = 4\n",
    "    \n",
    "    conv_base = VGG16(include_top=False)\n",
    "    \n",
    "    for layer in conv_base.layers:\n",
    "        layer.trainable = False\n",
    "        \n",
    "    x = conv_base.output\n",
    "    x = GlobalAveragePooling2D()(x)\n",
    "    x = Dense(64, activation='relu')(x) \n",
    "    x = Dropout(0.1)(x)\n",
    "    x = Dense(32, activation='relu')(x) \n",
    "    x = Dropout(0.2)(x)\n",
    "    predictions = Dense(NUM_CLASSES, activation='softmax')(x)\n",
    "    model = Model(conv_base.input, predictions)\n",
    "    # optimizer = optimizers.Adam()\n",
    "    optimizer = optimizers.Adam(learning_rate=0.001)\n",
    "    model.compile(loss='categorical_crossentropy',\n",
    "                  optimizer=optimizer,\n",
    "                  metrics=['accuracy'])\n",
    "    return model"
   ]
  },
  {
   "cell_type": "code",
   "execution_count": 7,
   "metadata": {},
   "outputs": [],
   "source": [
    "import keras\n",
    "def build_model():\n",
    "    model = keras.models.Sequential([\n",
    "        keras.layers.Conv2D(16, (3,3), activation='relu', input_shape=(128, 128, 3)),\n",
    "        keras.layers.Dropout(.2),\n",
    "        keras.layers.MaxPooling2D(2,2),\n",
    "        keras.layers.Conv2D(32, (3,3), activation='relu'),\n",
    "        keras.layers.Dropout(.2),\n",
    "        keras.layers.MaxPooling2D(2,2), \n",
    "        keras.layers.Conv2D(64, (3,3), activation='relu'), \n",
    "        keras.layers.Dropout(.2),\n",
    "        keras.layers.MaxPooling2D(2,2),\n",
    "        \n",
    "        keras.layers.Flatten(), \n",
    "        keras.layers.Dense(256, activation='relu'), \n",
    "        keras.layers.Dropout(.4),\n",
    "        keras.layers.Dense(NUM_CLASSES, activation='softmax')\n",
    "    ])\n",
    "\n",
    "    model.compile(optimizer=optimizers.RMSprop(lr=0.01), loss='categorical_crossentropy', metrics=['acc'])\n",
    "\n",
    "    return model"
   ]
  },
  {
   "cell_type": "code",
   "execution_count": 8,
   "metadata": {},
   "outputs": [],
   "source": [
    "model = build3()"
   ]
  },
  {
   "cell_type": "code",
   "execution_count": 9,
   "metadata": {},
   "outputs": [],
   "source": [
    "import keras\n",
    "from keras import optimizers\n",
    "from keras.preprocessing.image import ImageDataGenerator\n",
    "\n",
    "OBJECTIVE_FUNCTION = 'categorical_crossentropy'\n",
    "LOSS_METRICS = ['accuracy']\n",
    "\n",
    "\n",
    "\n"
   ]
  },
  {
   "cell_type": "code",
   "execution_count": 10,
   "metadata": {},
   "outputs": [],
   "source": [
    "bs = 32\n",
    "train_datagen = ImageDataGenerator(\n",
    "    rescale=1./255,\n",
    "    rotation_range=20,\n",
    "#     width_shift_range=0.1,\n",
    "#     height_shift_range=0.1,\n",
    "#     shear_range=0.15,\n",
    "    zoom_range=0.1,\n",
    "#     horizontal_flip=True, \n",
    "    validation_split=0.2\n",
    ")\n"
   ]
  },
  {
   "cell_type": "code",
   "execution_count": 11,
   "metadata": {},
   "outputs": [
    {
     "name": "stdout",
     "output_type": "stream",
     "text": [
      "Found 468 images belonging to 4 classes.\n"
     ]
    }
   ],
   "source": [
    "train_dir = 'fruits/'\n",
    "\n",
    "train_generator = train_datagen.flow_from_directory(\n",
    "    train_dir,  # This is the source directory for training images\n",
    "    target_size=(128, 128),  # All images will be resized to 256x256\n",
    "    batch_size=bs,\n",
    "    class_mode='categorical',\n",
    "    subset='training')"
   ]
  },
  {
   "cell_type": "code",
   "execution_count": 12,
   "metadata": {},
   "outputs": [
    {
     "name": "stdout",
     "output_type": "stream",
     "text": [
      "Found 114 images belonging to 4 classes.\n"
     ]
    }
   ],
   "source": [
    "validation_generator = train_datagen.flow_from_directory(\n",
    "    train_dir, # same directory as training data\n",
    "    target_size=(128, 128),\n",
    "    batch_size=bs,\n",
    "    class_mode='categorical',\n",
    "    subset='validation') # set as validation data"
   ]
  },
  {
   "cell_type": "code",
   "execution_count": 13,
   "metadata": {},
   "outputs": [
    {
     "name": "stdout",
     "output_type": "stream",
     "text": [
      "Epoch 1/18\n",
      "15/15 [==============================] - ETA: 0s - loss: 1.3715 - accuracy: 0.3376"
     ]
    },
    {
     "name": "stderr",
     "output_type": "stream",
     "text": [
      "/home/tung/.virtualenvs/cvpy/lib/python3.7/site-packages/PIL/Image.py:961: UserWarning: Palette images with Transparency expressed in bytes should be converted to RGBA images\n",
      "  \"Palette images with Transparency expressed in bytes should be \"\n"
     ]
    },
    {
     "name": "stdout",
     "output_type": "stream",
     "text": [
      "15/15 [==============================] - 22s 1s/step - loss: 1.3715 - accuracy: 0.3376 - val_loss: 1.2786 - val_accuracy: 0.3860\n",
      "Epoch 2/18\n",
      "15/15 [==============================] - 24s 2s/step - loss: 1.1903 - accuracy: 0.4701 - val_loss: 1.1427 - val_accuracy: 0.4649\n",
      "Epoch 3/18\n",
      "15/15 [==============================] - 22s 1s/step - loss: 1.0674 - accuracy: 0.5491 - val_loss: 0.9744 - val_accuracy: 0.6228\n",
      "Epoch 4/18\n",
      "15/15 [==============================] - 24s 2s/step - loss: 1.0047 - accuracy: 0.5897 - val_loss: 0.8960 - val_accuracy: 0.6667\n",
      "Epoch 5/18\n",
      "15/15 [==============================] - 22s 1s/step - loss: 0.9442 - accuracy: 0.6239 - val_loss: 0.8077 - val_accuracy: 0.6842\n",
      "Epoch 6/18\n",
      "15/15 [==============================] - 23s 2s/step - loss: 0.8654 - accuracy: 0.6624 - val_loss: 0.7052 - val_accuracy: 0.7544\n",
      "Epoch 7/18\n",
      "15/15 [==============================] - 23s 2s/step - loss: 0.8156 - accuracy: 0.6752 - val_loss: 0.7175 - val_accuracy: 0.7807\n",
      "Epoch 8/18\n",
      "15/15 [==============================] - 22s 1s/step - loss: 0.7487 - accuracy: 0.7436 - val_loss: 0.6367 - val_accuracy: 0.7632\n",
      "Epoch 9/18\n",
      "15/15 [==============================] - 22s 1s/step - loss: 0.7395 - accuracy: 0.7094 - val_loss: 0.6389 - val_accuracy: 0.7456\n",
      "Epoch 10/18\n",
      "15/15 [==============================] - 21s 1s/step - loss: 0.6955 - accuracy: 0.7179 - val_loss: 0.6149 - val_accuracy: 0.7456\n",
      "Epoch 11/18\n",
      "15/15 [==============================] - 21s 1s/step - loss: 0.6399 - accuracy: 0.7714 - val_loss: 0.5136 - val_accuracy: 0.8684\n",
      "Epoch 12/18\n",
      "15/15 [==============================] - 22s 1s/step - loss: 0.6391 - accuracy: 0.7543 - val_loss: 0.4934 - val_accuracy: 0.8333\n",
      "Epoch 13/18\n",
      "15/15 [==============================] - 21s 1s/step - loss: 0.6110 - accuracy: 0.7906 - val_loss: 0.4722 - val_accuracy: 0.8421\n",
      "Epoch 14/18\n",
      "15/15 [==============================] - 21s 1s/step - loss: 0.5662 - accuracy: 0.7970 - val_loss: 0.4427 - val_accuracy: 0.8421\n",
      "Epoch 15/18\n",
      "15/15 [==============================] - 22s 1s/step - loss: 0.5314 - accuracy: 0.7927 - val_loss: 0.4569 - val_accuracy: 0.7895\n",
      "Epoch 16/18\n",
      "15/15 [==============================] - 21s 1s/step - loss: 0.5063 - accuracy: 0.8355 - val_loss: 0.4263 - val_accuracy: 0.8509\n",
      "Epoch 17/18\n",
      "15/15 [==============================] - 20s 1s/step - loss: 0.4922 - accuracy: 0.8312 - val_loss: 0.4229 - val_accuracy: 0.8509\n",
      "Epoch 18/18\n",
      "15/15 [==============================] - 21s 1s/step - loss: 0.5012 - accuracy: 0.8120 - val_loss: 0.4087 - val_accuracy: 0.8596\n"
     ]
    },
    {
     "data": {
      "text/plain": [
       "<tensorflow.python.keras.callbacks.History at 0x7fdd181748d0>"
      ]
     },
     "execution_count": 13,
     "metadata": {},
     "output_type": "execute_result"
    }
   ],
   "source": [
    "keras.backend.clear_session()\n",
    "model.fit(\n",
    "    train_generator,\n",
    "#     steps_per_epoch = train_generator.samples // batch_size,\n",
    "    validation_data = validation_generator, \n",
    "    batch_size=bs,\n",
    "#     validation_steps = validation_generator.samples // batch_size,\n",
    "    epochs = 18)"
   ]
  },
  {
   "cell_type": "code",
   "execution_count": 16,
   "metadata": {},
   "outputs": [
    {
     "name": "stdout",
     "output_type": "stream",
     "text": [
      "WARNING:tensorflow:From /home/tung/.virtualenvs/cvpy/lib/python3.7/site-packages/tensorflow/python/ops/resource_variable_ops.py:1817: calling BaseResourceVariable.__init__ (from tensorflow.python.ops.resource_variable_ops) with constraint is deprecated and will be removed in a future version.\n",
      "Instructions for updating:\n",
      "If using Keras pass *_constraint arguments to layers.\n",
      "INFO:tensorflow:Assets written to: fruits_model_2/assets\n"
     ]
    }
   ],
   "source": [
    "model.save('fruits_model_2')"
   ]
  },
  {
   "cell_type": "code",
   "execution_count": 17,
   "metadata": {},
   "outputs": [],
   "source": [
    "learn = keras.models.load_model('fruits_model_2/')"
   ]
  },
  {
   "cell_type": "code",
   "execution_count": 41,
   "metadata": {},
   "outputs": [],
   "source": [
    "import PIL\n",
    "import numpy as np\n",
    "image = PIL.Image.open('fruits/orange/00000035.jpg').resize((128,128))"
   ]
  },
  {
   "cell_type": "code",
   "execution_count": 42,
   "metadata": {
    "scrolled": true
   },
   "outputs": [],
   "source": [
    "x = np.array(image)\n",
    "x = keras.applications.vgg16.preprocess_input(\n",
    "    x, data_format=None\n",
    ")\n",
    "x = np.stack([x])"
   ]
  },
  {
   "cell_type": "code",
   "execution_count": 43,
   "metadata": {},
   "outputs": [
    {
     "data": {
      "text/plain": [
       "0"
      ]
     },
     "execution_count": 43,
     "metadata": {},
     "output_type": "execute_result"
    }
   ],
   "source": [
    "predict = learn.predict(x)\n",
    "list(predict[0]).index(max(predict[0]))"
   ]
  },
  {
   "cell_type": "code",
   "execution_count": 44,
   "metadata": {},
   "outputs": [
    {
     "data": {
      "text/plain": [
       "array([[1., 0., 0., 0.]], dtype=float32)"
      ]
     },
     "execution_count": 44,
     "metadata": {},
     "output_type": "execute_result"
    }
   ],
   "source": [
    "predict"
   ]
  },
  {
   "cell_type": "code",
   "execution_count": 45,
   "metadata": {},
   "outputs": [
    {
     "data": {
      "image/png": "[encoded data removed]",
      "text/plain": [
       "<PIL.Image.Image image mode=RGB size=128x128 at 0x7FDCF032B650>"
      ]
     },
     "execution_count": 45,
     "metadata": {},
     "output_type": "execute_result"
    }
   ],
   "source": [
    "image"
   ]
  },
  {
   "cell_type": "code",
   "execution_count": 39,
   "metadata": {},
   "outputs": [],
   "source": [
    "label_map = (train_generator.class_indices)"
   ]
  },
  {
   "cell_type": "code",
   "execution_count": 40,
   "metadata": {},
   "outputs": [
    {
     "data": {
      "text/plain": [
       "{'apple': 0, 'banana': 1, 'orange': 2, 'peach': 3}"
      ]
     },
     "execution_count": 40,
     "metadata": {},
     "output_type": "execute_result"
    }
   ],
   "source": [
    "label_map"
   ]
  },
  {
   "cell_type": "code",
   "execution_count": null,
   "metadata": {},
   "outputs": [],
   "source": []
  }
 ],
 "metadata": {
  "kernelspec": {
   "display_name": "cvpy",
   "language": "python",
   "name": "cvpy"
  },
  "language_info": {
   "codemirror_mode": {
    "name": "ipython",
    "version": 3
   },
   "file_extension": ".py",
   "mimetype": "text/x-python",
   "name": "python",
   "nbconvert_exporter": "python",
   "pygments_lexer": "ipython3",
   "version": "3.7.6"
  },
  "toc": {
   "base_numbering": 1,
   "nav_menu": {},
   "number_sections": true,
   "sideBar": true,
   "skip_h1_title": false,
   "title_cell": "Table of Contents",
   "title_sidebar": "Contents",
   "toc_cell": false,
   "toc_position": {},
   "toc_section_display": true,
   "toc_window_display": false
  }
 },
 "nbformat": 4,
 "nbformat_minor": 4
}
