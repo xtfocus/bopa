{
 "cells": [
  {
   "cell_type": "code",
   "execution_count": 221,
   "metadata": {},
   "outputs": [],
   "source": [
    "from keras.preprocessing.image import load_img\n",
    "from keras.preprocessing.image import img_to_array\n",
    "from keras.models import Model\n",
    "from keras.applications import VGG16\n",
    "\n",
    "\n",
    "from keras.applications import ResNet50\n",
    "from keras.applications.resnet50 import preprocess_input\n",
    "\n",
    "\n",
    "\n",
    "from keras.models import Sequential\n",
    "from keras.layers import Dense, GlobalAveragePooling2D, Dropout\n",
    "\n",
    "from pickle import dump"
   ]
  },
  {
   "cell_type": "code",
   "execution_count": 214,
   "metadata": {},
   "outputs": [],
   "source": [
    "NUM_CLASSES = 4\n",
    "\n",
    "conv_base = VGG16(include_top=False)\n",
    "\n",
    "for layer in conv_base.layers:\n",
    "    layer.trainable = False\n",
    "    \n",
    "x = conv_base.output\n",
    "x = GlobalAveragePooling2D()(x)\n",
    "x = Dense(64, activation='relu')(x) \n",
    "x = Dropout(0.1)(x)\n",
    "x = Dense(32, activation='relu')(x) \n",
    "x = Dropout(0.2)(x)\n",
    "predictions = Dense(NUM_CLASSES, activation='softmax')(x)\n",
    "model = Model(conv_base.input, predictions)"
   ]
  },
  {
   "cell_type": "code",
   "execution_count": 215,
   "metadata": {},
   "outputs": [
    {
     "name": "stdout",
     "output_type": "stream",
     "text": [
      "Model: \"model\"\n",
      "_________________________________________________________________\n",
      "Layer (type)                 Output Shape              Param #   \n",
      "=================================================================\n",
      "input_1 (InputLayer)         [(None, None, None, 3)]   0         \n",
      "_________________________________________________________________\n",
      "block1_conv1 (Conv2D)        (None, None, None, 64)    1792      \n",
      "_________________________________________________________________\n",
      "block1_conv2 (Conv2D)        (None, None, None, 64)    36928     \n",
      "_________________________________________________________________\n",
      "block1_pool (MaxPooling2D)   (None, None, None, 64)    0         \n",
      "_________________________________________________________________\n",
      "block2_conv1 (Conv2D)        (None, None, None, 128)   73856     \n",
      "_________________________________________________________________\n",
      "block2_conv2 (Conv2D)        (None, None, None, 128)   147584    \n",
      "_________________________________________________________________\n",
      "block2_pool (MaxPooling2D)   (None, None, None, 128)   0         \n",
      "_________________________________________________________________\n",
      "block3_conv1 (Conv2D)        (None, None, None, 256)   295168    \n",
      "_________________________________________________________________\n",
      "block3_conv2 (Conv2D)        (None, None, None, 256)   590080    \n",
      "_________________________________________________________________\n",
      "block3_conv3 (Conv2D)        (None, None, None, 256)   590080    \n",
      "_________________________________________________________________\n",
      "block3_pool (MaxPooling2D)   (None, None, None, 256)   0         \n",
      "_________________________________________________________________\n",
      "block4_conv1 (Conv2D)        (None, None, None, 512)   1180160   \n",
      "_________________________________________________________________\n",
      "block4_conv2 (Conv2D)        (None, None, None, 512)   2359808   \n",
      "_________________________________________________________________\n",
      "block4_conv3 (Conv2D)        (None, None, None, 512)   2359808   \n",
      "_________________________________________________________________\n",
      "block4_pool (MaxPooling2D)   (None, None, None, 512)   0         \n",
      "_________________________________________________________________\n",
      "block5_conv1 (Conv2D)        (None, None, None, 512)   2359808   \n",
      "_________________________________________________________________\n",
      "block5_conv2 (Conv2D)        (None, None, None, 512)   2359808   \n",
      "_________________________________________________________________\n",
      "block5_conv3 (Conv2D)        (None, None, None, 512)   2359808   \n",
      "_________________________________________________________________\n",
      "block5_pool (MaxPooling2D)   (None, None, None, 512)   0         \n",
      "_________________________________________________________________\n",
      "global_average_pooling2d (Gl (None, 512)               0         \n",
      "_________________________________________________________________\n",
      "dense (Dense)                (None, 64)                32832     \n",
      "_________________________________________________________________\n",
      "dropout (Dropout)            (None, 64)                0         \n",
      "_________________________________________________________________\n",
      "dense_1 (Dense)              (None, 32)                2080      \n",
      "_________________________________________________________________\n",
      "dropout_1 (Dropout)          (None, 32)                0         \n",
      "_________________________________________________________________\n",
      "dense_2 (Dense)              (None, 4)                 132       \n",
      "=================================================================\n",
      "Total params: 14,749,732\n",
      "Trainable params: 35,044\n",
      "Non-trainable params: 14,714,688\n",
      "_________________________________________________________________\n"
     ]
    }
   ],
   "source": [
    "model.summary()\n"
   ]
  },
  {
   "cell_type": "code",
   "execution_count": 216,
   "metadata": {},
   "outputs": [],
   "source": [
    "import keras\n",
    "from keras import optimizers\n",
    "from keras.preprocessing.image import ImageDataGenerator\n",
    "\n",
    "OBJECTIVE_FUNCTION = 'categorical_crossentropy'\n",
    "LOSS_METRICS = ['accuracy']\n",
    "\n",
    "\n",
    "\n",
    "# optimizer = optimizers.Adam()\n",
    "optimizer = optimizers.Adam(learning_rate=0.001)\n",
    "model.compile(loss='categorical_crossentropy',\n",
    "              optimizer=optimizer,\n",
    "              metrics=['accuracy'])"
   ]
  },
  {
   "cell_type": "code",
   "execution_count": 217,
   "metadata": {},
   "outputs": [],
   "source": [
    "train_datagen = ImageDataGenerator(\n",
    "    rescale=1./255,\n",
    "    rotation_range=20,\n",
    "    width_shift_range=0.1,\n",
    "    height_shift_range=0.1,\n",
    "#     shear_range=0.15,\n",
    "    zoom_range=0.1,\n",
    "#     horizontal_flip=True, \n",
    "    validation_split=0.2\n",
    ")\n"
   ]
  },
  {
   "cell_type": "code",
   "execution_count": 218,
   "metadata": {},
   "outputs": [
    {
     "name": "stdout",
     "output_type": "stream",
     "text": [
      "Found 468 images belonging to 4 classes.\n"
     ]
    }
   ],
   "source": [
    "train_dir = 'fruits/'\n",
    "\n",
    "train_generator = train_datagen.flow_from_directory(\n",
    "    train_dir,  # This is the source directory for training images\n",
    "    target_size=(128, 128),  # All images will be resized to 256x256\n",
    "    batch_size=32,\n",
    "    class_mode='categorical',\n",
    "    subset='training')"
   ]
  },
  {
   "cell_type": "code",
   "execution_count": 219,
   "metadata": {},
   "outputs": [
    {
     "name": "stdout",
     "output_type": "stream",
     "text": [
      "Found 114 images belonging to 4 classes.\n"
     ]
    }
   ],
   "source": [
    "validation_generator = train_datagen.flow_from_directory(\n",
    "    train_dir, # same directory as training data\n",
    "    target_size=(128, 128),\n",
    "    batch_size=32,\n",
    "    class_mode='categorical',\n",
    "    subset='validation') # set as validation data"
   ]
  },
  {
   "cell_type": "code",
   "execution_count": 220,
   "metadata": {},
   "outputs": [
    {
     "name": "stdout",
     "output_type": "stream",
     "text": [
      "Epoch 1/20\n",
      "15/15 [==============================] - ETA: 0s - loss: 1.3716 - accuracy: 0.3077"
     ]
    },
    {
     "name": "stderr",
     "output_type": "stream",
     "text": [
      "/home/tung/.virtualenvs/cvpy/lib/python3.7/site-packages/PIL/Image.py:961: UserWarning: Palette images with Transparency expressed in bytes should be converted to RGBA images\n",
      "  \"Palette images with Transparency expressed in bytes should be \"\n"
     ]
    },
    {
     "name": "stdout",
     "output_type": "stream",
     "text": [
      "15/15 [==============================] - 24s 2s/step - loss: 1.3716 - accuracy: 0.3077 - val_loss: 1.2834 - val_accuracy: 0.3772\n",
      "Epoch 2/20\n",
      "15/15 [==============================] - 21s 1s/step - loss: 1.2455 - accuracy: 0.4316 - val_loss: 1.2279 - val_accuracy: 0.4649\n",
      "Epoch 3/20\n",
      "15/15 [==============================] - 20s 1s/step - loss: 1.1445 - accuracy: 0.5363 - val_loss: 1.1341 - val_accuracy: 0.4474\n",
      "Epoch 4/20\n",
      "15/15 [==============================] - 20s 1s/step - loss: 1.0689 - accuracy: 0.5363 - val_loss: 1.0285 - val_accuracy: 0.4912\n",
      "Epoch 5/20\n",
      "15/15 [==============================] - 21s 1s/step - loss: 1.0186 - accuracy: 0.5598 - val_loss: 0.9176 - val_accuracy: 0.6579\n",
      "Epoch 6/20\n",
      "15/15 [==============================] - 21s 1s/step - loss: 0.9636 - accuracy: 0.6389 - val_loss: 0.8398 - val_accuracy: 0.7018\n",
      "Epoch 7/20\n",
      "15/15 [==============================] - 20s 1s/step - loss: 0.8686 - accuracy: 0.6624 - val_loss: 0.7635 - val_accuracy: 0.7807\n",
      "Epoch 8/20\n",
      "15/15 [==============================] - 20s 1s/step - loss: 0.8416 - accuracy: 0.6795 - val_loss: 0.6834 - val_accuracy: 0.7368\n",
      "Epoch 9/20\n",
      "15/15 [==============================] - 20s 1s/step - loss: 0.7690 - accuracy: 0.7179 - val_loss: 0.7127 - val_accuracy: 0.7193\n",
      "Epoch 10/20\n",
      "15/15 [==============================] - 20s 1s/step - loss: 0.7361 - accuracy: 0.7265 - val_loss: 0.6050 - val_accuracy: 0.7544\n",
      "Epoch 11/20\n",
      "15/15 [==============================] - 20s 1s/step - loss: 0.7009 - accuracy: 0.7286 - val_loss: 0.5834 - val_accuracy: 0.7719\n",
      "Epoch 12/20\n",
      "15/15 [==============================] - 21s 1s/step - loss: 0.6661 - accuracy: 0.7500 - val_loss: 0.5379 - val_accuracy: 0.8070\n",
      "Epoch 13/20\n",
      "15/15 [==============================] - 20s 1s/step - loss: 0.6329 - accuracy: 0.7756 - val_loss: 0.4744 - val_accuracy: 0.8596\n",
      "Epoch 14/20\n",
      "15/15 [==============================] - 20s 1s/step - loss: 0.6403 - accuracy: 0.7350 - val_loss: 0.5458 - val_accuracy: 0.7807\n",
      "Epoch 15/20\n",
      "15/15 [==============================] - 21s 1s/step - loss: 0.5931 - accuracy: 0.7714 - val_loss: 0.4831 - val_accuracy: 0.8333\n",
      "Epoch 16/20\n",
      "15/15 [==============================] - 20s 1s/step - loss: 0.5871 - accuracy: 0.7778 - val_loss: 0.4626 - val_accuracy: 0.8421\n",
      "Epoch 17/20\n",
      "15/15 [==============================] - 22s 1s/step - loss: 0.5471 - accuracy: 0.7863 - val_loss: 0.4232 - val_accuracy: 0.8772\n",
      "Epoch 18/20\n",
      "15/15 [==============================] - 23s 2s/step - loss: 0.5297 - accuracy: 0.8120 - val_loss: 0.4117 - val_accuracy: 0.8684\n",
      "Epoch 19/20\n",
      "15/15 [==============================] - 24s 2s/step - loss: 0.5071 - accuracy: 0.8205 - val_loss: 0.4137 - val_accuracy: 0.8684\n",
      "Epoch 20/20\n",
      "15/15 [==============================] - 21s 1s/step - loss: 0.4893 - accuracy: 0.8141 - val_loss: 0.4520 - val_accuracy: 0.8421\n"
     ]
    },
    {
     "data": {
      "text/plain": [
       "<tensorflow.python.keras.callbacks.History at 0x7f3028bcce90>"
      ]
     },
     "execution_count": 220,
     "metadata": {},
     "output_type": "execute_result"
    }
   ],
   "source": [
    "keras.backend.clear_session()\n",
    "model.fit(\n",
    "    train_generator,\n",
    "#     steps_per_epoch = train_generator.samples // batch_size,\n",
    "    validation_data = validation_generator, \n",
    "    batch_size=16,\n",
    "#     validation_steps = validation_generator.samples // batch_size,\n",
    "    epochs = 20)"
   ]
  },
  {
   "cell_type": "code",
   "execution_count": 222,
   "metadata": {},
   "outputs": [
    {
     "name": "stdout",
     "output_type": "stream",
     "text": [
      "INFO:tensorflow:Assets written to: fruits_model/assets\n"
     ]
    }
   ],
   "source": [
    "model.save('fruits_model')"
   ]
  },
  {
   "cell_type": "code",
   "execution_count": 223,
   "metadata": {},
   "outputs": [],
   "source": [
    "learn = keras.models.load_model('fruits_model/')"
   ]
  },
  {
   "cell_type": "code",
   "execution_count": 238,
   "metadata": {},
   "outputs": [],
   "source": [
    "import PIL\n",
    "import numpy as np\n",
    "image = PIL.Image.open('fruits/orange/00000007.jpg').resize((128,128))"
   ]
  },
  {
   "cell_type": "code",
   "execution_count": 239,
   "metadata": {
    "scrolled": true
   },
   "outputs": [],
   "source": [
    "x = np.array(image)\n",
    "x = keras.applications.vgg16.preprocess_input(\n",
    "    x, data_format=None\n",
    ")\n",
    "x = np.stack([x])"
   ]
  },
  {
   "cell_type": "code",
   "execution_count": 240,
   "metadata": {},
   "outputs": [
    {
     "data": {
      "text/plain": [
       "2"
      ]
     },
     "execution_count": 240,
     "metadata": {},
     "output_type": "execute_result"
    }
   ],
   "source": [
    "predict = learn.predict(x)\n",
    "list(predict[0]).index(max(predict[0]))"
   ]
  },
  {
   "cell_type": "code",
   "execution_count": 241,
   "metadata": {},
   "outputs": [
    {
     "data": {
      "text/plain": [
       "array([[6.3497105e-27, 4.2758959e-18, 1.0000000e+00, 1.1347180e-16]],\n",
       "      dtype=float32)"
      ]
     },
     "execution_count": 241,
     "metadata": {},
     "output_type": "execute_result"
    }
   ],
   "source": [
    "predict"
   ]
  },
  {
   "cell_type": "code",
   "execution_count": 242,
   "metadata": {},
   "outputs": [
    {
     "data": {
      "image/png": "[encoded data removed]",
      "text/plain": [
       "<PIL.Image.Image image mode=RGB size=128x128 at 0x7F303381A0D0>"
      ]
     },
     "execution_count": 242,
     "metadata": {},
     "output_type": "execute_result"
    }
   ],
   "source": [
    "image"
   ]
  },
  {
   "cell_type": "code",
   "execution_count": 148,
   "metadata": {},
   "outputs": [],
   "source": [
    "label_map = (train_generator.class_indices)"
   ]
  },
  {
   "cell_type": "code",
   "execution_count": 149,
   "metadata": {},
   "outputs": [
    {
     "data": {
      "text/plain": [
       "{'apple': 0, 'banana': 1, 'orange': 2, 'peach': 3}"
      ]
     },
     "execution_count": 149,
     "metadata": {},
     "output_type": "execute_result"
    }
   ],
   "source": [
    "label_map"
   ]
  },
  {
   "cell_type": "code",
   "execution_count": null,
   "metadata": {},
   "outputs": [],
   "source": []
  }
 ],
 "metadata": {
  "kernelspec": {
   "display_name": "cvpy",
   "language": "python",
   "name": "cvpy"
  },
  "language_info": {
   "codemirror_mode": {
    "name": "ipython",
    "version": 3
   },
   "file_extension": ".py",
   "mimetype": "text/x-python",
   "name": "python",
   "nbconvert_exporter": "python",
   "pygments_lexer": "ipython3",
   "version": "3.7.6"
  },
  "toc": {
   "base_numbering": 1,
   "nav_menu": {},
   "number_sections": true,
   "sideBar": true,
   "skip_h1_title": false,
   "title_cell": "Table of Contents",
   "title_sidebar": "Contents",
   "toc_cell": false,
   "toc_position": {},
   "toc_section_display": true,
   "toc_window_display": false
  }
 },
 "nbformat": 4,
 "nbformat_minor": 4
}
